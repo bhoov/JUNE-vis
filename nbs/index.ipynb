{
 "cells": [
  {
   "cell_type": "markdown",
   "metadata": {},
   "source": [
    "# JUNE-vis\n",
    "\n",
    "> A dashboard to visualize the JUNE simulation results for epidemic modeling and intervention\n",
    "\n",
    "- Paper: https://www.medrxiv.org/content/10.1101/2021.01.27.21250611v1\n",
    "- Original JUNE package: https://github.com/IDAS-Durham/JUNE"
   ]
  },
  {
   "cell_type": "markdown",
   "metadata": {},
   "source": [
    "## Install"
   ]
  },
  {
   "cell_type": "markdown",
   "metadata": {},
   "source": [
    "`pip install junevis`"
   ]
  },
  {
   "cell_type": "markdown",
   "metadata": {},
   "source": [
    "## Serve the Example Project\n",
    "\n",
    "This code ships with an example project (`learning_centers`) for the interface. From the command line, run:\n",
    "\n",
    "`junevis_serve` "
   ]
  },
  {
   "cell_type": "markdown",
   "metadata": {},
   "source": [
    "## Add new simulation results to JUNE-vis\n",
    "\n",
    "The `JUNE` simulation logs events as they occur into hdf5 files called `records`. These are transformed into csv files called `summaries` that are automatically placed into a folder the frontend interface can serve. To create a new visualization from a simulation,\n",
    "\n",
    "`junevis_create path/to/folder/containing/records`\n",
    "\n",
    "For more details on the expected contents of this folder, see `create_project.py`"
   ]
  },
  {
   "cell_type": "markdown",
   "metadata": {},
   "source": [
    "## Known Bugs\n",
    "\n",
    "- Rendering the geojson associated with the map of England does not work"
   ]
  }
 ],
 "metadata": {
  "kernelspec": {
   "display_name": "Python 3",
   "language": "python",
   "name": "python3"
  }
 },
 "nbformat": 4,
 "nbformat_minor": 2
}
