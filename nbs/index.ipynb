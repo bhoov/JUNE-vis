{
 "cells": [
  {
   "cell_type": "markdown",
   "metadata": {},
   "source": [
    "# JUNE-vis\n",
    "\n",
    "> A dashboard to visualize the JUNE simulation results for epidemic modeling and intervention\n",
    "\n",
    "- Paper: https://www.medrxiv.org/content/10.1101/2021.01.27.21250611v1\n",
    "- Original JUNE package: https://github.com/IDAS-Durham/JUNE\n",
    "\n",
    "\n",
    "- [Install](#install)\n",
    "- [Serving the App](#serve-the-example-project)\n",
    "- [Add New Projects](#add-new-simulation-results-to-june-vis)\n",
    "- [Walkthrough](#walkthrough)"
   ]
  },
  {
   "cell_type": "markdown",
   "metadata": {},
   "source": [
    "## Install"
   ]
  },
  {
   "cell_type": "markdown",
   "metadata": {},
   "source": [
    "`pip install junevis`"
   ]
  },
  {
   "cell_type": "markdown",
   "metadata": {},
   "source": [
    "## Serve the Example Project\n",
    "\n",
    "This code ships with an example project (`mask_wearing`) for the interface. From the command line, run:\n",
    "\n",
    "`junevis_serve` "
   ]
  },
  {
   "cell_type": "markdown",
   "metadata": {},
   "source": [
    "## Add new simulation results to JUNE-vis\n",
    "\n",
    "The `JUNE` simulation logs events as they occur into hdf5 files called `records`. These are transformed into csv files called `summaries` that are automatically placed into a folder the frontend interface can serve. To create a new visualization from a simulation,\n",
    "\n",
    "`junevis_create path/to/folder/containing/records`\n",
    "\n",
    "For more details on the expected contents of this folder, see [this documentation](`https://bhoov.github.io/JUNE-vis/Create%20Project.html`).\n",
    "\n",
    "### Changing the homepage\n",
    "\n",
    "You will need to clone the source code if you want to change the landing page to describe the set of simulation results deployed. The file to change is in `junevis/client/src/views/Intro.vue` (this is a `.vue` file that contains all the needed HTML, CSS, and javascript).\n",
    "\n",
    "After cloning and making your desired changes, from this project's root:\n",
    "\n",
    "```\n",
    "pip install -e .\n",
    "cd junevis/client\n",
    "npm install\n",
    "npm run build\n",
    "junevis_serve\n",
    "```\n",
    "\n",
    "### Deploying\n",
    "\n",
    "You can easily host this for others to see by running `junevis_serve` and exposing (default port) `8000`. "
   ]
  },
  {
   "cell_type": "markdown",
   "metadata": {},
   "source": [
    "# Walkthrough\n",
    "\n",
    "## The Explore Page\n",
    "\n",
    "### The parameter selection grid\n",
    "\n",
    "Choose which runs to compare across a single dimension:\n",
    "\n",
    "<img src=\"img/Explore_Top.png\" alt=\"Parameter Selecting on the Exploration Page\" width=\"600px\"/> \n",
    "\n",
    "The parameter grid (left) is designed so you can view a single simulation by clicking on a valid combination of hyperparameter values. Alternatively, you can highlight all the values of the hyperparameters by clicking on the name of the hyperparameter to compare simulations accross all values of that dimension.\n",
    "\n",
    "### A card and SIR cruve for every simulation\n",
    "\n",
    "Every run is associated with a set of hyperparameters. Its effect can be summarized with an SIR curve, shown as the thumbnail:\n",
    "\n",
    "<img src=\"img/Explore_Cards.png\" alt=\"SIR Cards on the Explore Page\" width=\"600px\"/> \n",
    "\n",
    "## The Detailed Comparison Page\n",
    "\n",
    "Sometimes we want to compare simulations across more subtle effects, such as the difference in where the infections occurred, shown below:\n",
    "\n",
    "<img src=\"img/Compare_Locs.png\" alt=\"Comparing the Location Details of 2 runs\" width=\"600px\"/> \n",
    "\n",
    "You can add any additional plot here to compare between two simulations. Included are SIR curve, ages of the infected, the locations of infection, and a detailed geography overview:\n",
    "\n",
    "<img src=\"img/Compare_Geo.png\" alt=\"Comparing the Geography Details of 2 runs\" width=\"600px\"/> \n",
    "\n",
    "The slider will color the background of each region according to the selected dimension at that point in time.\n",
    "\n",
    "## The Geography Overview\n",
    "\n",
    "To see the geographical effects of all simulations at once, we include a special page to sort and observe the peak value at each location for the course of a simulation:\n",
    "\n",
    "<img src=\"img/Geo_Overview.png\" alt=\"Overview of Geography\" width=\"600px\"/>\n"
   ]
  },
  {
   "cell_type": "markdown",
   "metadata": {},
   "source": [
    "## Known Bugs\n",
    "\n",
    "- Rendering the geojson associated with the map of England does not work\n",
    "- Creating a new project using the PyPI package will overwrite existing projects. We need to move processed projects into a configuration folder in the home directory and symbolically link them to the client"
   ]
  }
 ],
 "metadata": {
  "kernelspec": {
   "display_name": "Python 3",
   "language": "python",
   "name": "python3"
  }
 },
 "nbformat": 4,
 "nbformat_minor": 2
}
